{
 "cells": [
  {
   "cell_type": "markdown",
   "id": "0682e1bc",
   "metadata": {},
   "source": [
    "Train an ensemble of 50 NN members to predict dynamical regimes from inputs prepared in *data_preparation.ipynb*\n",
    "\n",
    "This notebook can take a while to run, leaving the training vulnerable to shutdowns and whatnot. As such a python script version of this notebook is provided in ensemble_training.py."
   ]
  },
  {
   "cell_type": "code",
   "execution_count": null,
   "id": "71b1c926-0f2f-4aa7-b996-2818bb8ac101",
   "metadata": {},
   "outputs": [],
   "source": [
    "import os\n",
    "os.environ['TF_CPP_MIN_LOG_LEVEL'] = '2' \n",
    "\n",
    "import numpy as np\n",
    "import matplotlib.pyplot as plt\n",
    "from matplotlib.colors import LinearSegmentedColormap, ListedColormap\n",
    "import xarray as xr\n",
    "import cartopy.crs as ccrs\n",
    "import cartopy.feature as cfeature\n",
    "\n",
    "from sklearn.preprocessing import StandardScaler\n",
    "from sklearn.metrics import ConfusionMatrixDisplay\n",
    "\n",
    "import tensorflow as tf\n",
    "from tensorflow.keras.models import Sequential, Model\n",
    "from tensorflow.keras.layers import Dense, Reshape, Flatten, Input, Dropout, BatchNormalization, Concatenate\n",
    "from tensorflow.keras.optimizers import Adam, SGD, RMSprop\n",
    "from tensorflow import keras \n",
    "\n",
    "from pickle import dump"
   ]
  },
  {
   "cell_type": "code",
   "execution_count": 10,
   "id": "04437330-627c-4e3f-85bd-8981fd4745a2",
   "metadata": {},
   "outputs": [],
   "source": [
    "missingdataindex = np.load('Data_Step2/missingdataindex_mass_transport.npy')\n",
    "maskTraining = np.load('Data_Step2/maskTraining_mass_transport.npy')\n",
    "maskVal = np.load('Data_Step2/maskVal_mass_transport.npy')\n",
    "maskTest = np.load('Data_Step2/maskTest_mass_transport.npy')"
   ]
  },
  {
   "cell_type": "code",
   "execution_count": 11,
   "id": "3a0a98af-2417-4c4f-bee2-eee8bd8f0ed2",
   "metadata": {},
   "outputs": [],
   "source": [
    "num_clusters = 6\n",
    "\n",
    "total_features = np.load('Data_Step2/total_features_mass_transport.npy')\n",
    "total_labels = np.load(f'Data_Step2/total_labels_{num_clusters}_clusters_mass_transport_probs.npy')\n",
    "\n",
    "train_features = np.load('Data_Step2/train_features_mass_transport.npy')\n",
    "train_labels = np.load(f'Data_Step2/train_labels_{num_clusters}_clusters_mass_transport_probs.npy')\n",
    "\n",
    "val_features = np.load('Data_Step2/val_features_mass_transport.npy')\n",
    "val_labels = np.load(f'Data_Step2/val_labels_{num_clusters}_clusters_mass_transport_probs.npy')\n",
    "\n",
    "test_features = np.load('Data_Step2/test_features_mass_transport.npy')\n",
    "test_labels = np.load(f'Data_Step2/test_labels_{num_clusters}_clusters_mass_transport_probs.npy')"
   ]
  },
  {
   "cell_type": "code",
   "execution_count": 12,
   "id": "a5f751fa-32c8-402d-9971-73baeb90bb12",
   "metadata": {},
   "outputs": [
    {
     "data": {
      "text/plain": [
       "(array([-8.78698922e-10,  3.68473252e+03, -2.93517821e-01, -1.78395655e-05,\n",
       "         7.85068858e-05,  2.14230191e-03,  4.95124218e-07,  6.49555299e-07,\n",
       "         3.01111445e+08, -1.45646523e+07]),\n",
       " array([5.67442693e-09, 1.61048767e+03, 7.99068434e-01, 1.03240757e-04,\n",
       "        6.63677737e-01, 4.30530251e-02, 1.86624136e-05, 2.45397642e-06,\n",
       "        1.35950753e+09, 9.36660921e+08]))"
      ]
     },
     "execution_count": 12,
     "metadata": {},
     "output_type": "execute_result"
    }
   ],
   "source": [
    "scaler = StandardScaler()\n",
    "scaler.fit(train_features)\n",
    "scaler.mean_,scaler.scale_\n",
    "\n",
    "#dump(scaler, open('saved_scalers/scaler.pkl', 'wb'))"
   ]
  },
  {
   "cell_type": "code",
   "execution_count": 13,
   "id": "9a2d9dbd-a324-491f-9f75-85b3f03e803c",
   "metadata": {},
   "outputs": [],
   "source": [
    "X_total_scaled = scaler.transform(total_features)\n",
    "#Y_total = tf.keras.utils.to_categorical(total_labels)\n",
    "Y_total = total_labels\n",
    "\n",
    "X_train_scaled = scaler.transform(train_features)\n",
    "#Y_train = tf.keras.utils.to_categorical(train_labels)\n",
    "Y_train = train_labels\n",
    "\n",
    "X_val_scaled = scaler.transform(val_features)\n",
    "#Y_val = tf.keras.utils.to_categorical(val_labels)\n",
    "Y_val = val_labels\n",
    "\n",
    "X_test_scaled = scaler.transform(test_features)\n",
    "#Y_test = tf.keras.utils.to_categorical(test_labels)\n",
    "Y_test = test_labels"
   ]
  },
  {
   "cell_type": "code",
   "execution_count": 14,
   "id": "db7a8856-9efb-4620-9288-9e5e0fdafeb9",
   "metadata": {},
   "outputs": [
    {
     "data": {
      "text/plain": [
       "((481049, 10), (481049, 6))"
      ]
     },
     "execution_count": 14,
     "metadata": {},
     "output_type": "execute_result"
    }
   ],
   "source": [
    "X_train_scaled.shape, Y_train.shape"
   ]
  },
  {
   "cell_type": "code",
   "execution_count": 15,
   "id": "a0e18e4d-2f83-4b7f-b9b6-849dac1887bf",
   "metadata": {},
   "outputs": [
    {
     "name": "stdout",
     "output_type": "stream",
     "text": [
      "Model directory already exists\n"
     ]
    }
   ],
   "source": [
    "model_name = 'model_24x2_16x2_tanh_6_clusters_probs'\n",
    "\n",
    "if not os.path.isdir(f'saved_models/{model_name}/'):\n",
    "    os.makedirs(f'saved_models/{model_name}/')\n",
    "    print('Model directory created')\n",
    "else:\n",
    "    print('Model directory already exists')"
   ]
  },
  {
   "cell_type": "code",
   "execution_count": null,
   "id": "1b4c3262-dc02-42c6-8cfc-a467c6d5877f",
   "metadata": {
    "scrolled": true
   },
   "outputs": [],
   "source": [
    "for i in range(50):\n",
    "    \n",
    "    print(f'Training model {i}')\n",
    "    model = None\n",
    "    tf.keras.backend.clear_session()\n",
    "    member_name = f'model_{i}'\n",
    "\n",
    "    inputs = Input(shape=(10,))\n",
    "    x = Dense(24, activation='tanh')(inputs)\n",
    "    x = Dense(24, activation='tanh')(x)\n",
    "    x = Dense(16, activation='tanh')(x)\n",
    "    x = Dense(16, activation='tanh')(x)\n",
    "    outputs = Dense(num_clusters, activation='softmax')(x)\n",
    "\n",
    "    model = Model(inputs, outputs)\n",
    "    model.compile(loss='categorical_crossentropy', optimizer=Adam(1e-4), metrics=['accuracy', tf.keras.metrics.TopKCategoricalAccuracy(k=2)])\n",
    "    \n",
    "    es = tf.keras.callbacks.EarlyStopping(monitor='val_loss', patience=5, verbose=0)\n",
    "    #lr = tf.keras.callbacks.ReduceLROnPlateau(monitor='val_loss', patience=5)\n",
    "    \n",
    "    history = model.fit(X_train_scaled, Y_train,\n",
    "                        batch_size=32,\n",
    "                        epochs=100,\n",
    "                        verbose=0,\n",
    "                        validation_data=(X_val_scaled, Y_val),\n",
    "                        shuffle=True,\n",
    "                        callbacks=[es])\n",
    "    \n",
    "    model.save(f'saved_models/{model_name}/{member_name}.h5')"
   ]
  },
  {
   "cell_type": "code",
   "execution_count": null,
   "id": "3ed2982c-9702-46f1-bc8a-b90cf6d0a6bc",
   "metadata": {},
   "outputs": [],
   "source": []
  }
 ],
 "metadata": {
  "kernelspec": {
   "display_name": "Python 3 (ipykernel)",
   "language": "python",
   "name": "python3"
  },
  "language_info": {
   "codemirror_mode": {
    "name": "ipython",
    "version": 3
   },
   "file_extension": ".py",
   "mimetype": "text/x-python",
   "name": "python",
   "nbconvert_exporter": "python",
   "pygments_lexer": "ipython3",
   "version": "3.10.11"
  }
 },
 "nbformat": 4,
 "nbformat_minor": 5
}
